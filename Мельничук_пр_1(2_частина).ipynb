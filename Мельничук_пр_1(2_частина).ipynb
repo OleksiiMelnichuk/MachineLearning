{
  "nbformat": 4,
  "nbformat_minor": 0,
  "metadata": {
    "colab": {
      "provenance": [],
      "authorship_tag": "ABX9TyPzzysMCjB7nKsCbi89NELp",
      "include_colab_link": true
    },
    "kernelspec": {
      "name": "python3",
      "display_name": "Python 3"
    },
    "language_info": {
      "name": "python"
    }
  },
  "cells": [
    {
      "cell_type": "markdown",
      "metadata": {
        "id": "view-in-github",
        "colab_type": "text"
      },
      "source": [
        "<a href=\"https://colab.research.google.com/github/OleksiiMelnichuk/MachineLearning/blob/main/%D0%9C%D0%B5%D0%BB%D1%8C%D0%BD%D0%B8%D1%87%D1%83%D0%BA_%D0%BF%D1%80_1(2_%D1%87%D0%B0%D1%81%D1%82%D0%B8%D0%BD%D0%B0).ipynb\" target=\"_parent\"><img src=\"https://colab.research.google.com/assets/colab-badge.svg\" alt=\"Open In Colab\"/></a>"
      ]
    },
    {
      "cell_type": "code",
      "execution_count": null,
      "metadata": {
        "id": "LNmUg6iruJCs"
      },
      "outputs": [],
      "source": [
        "import numpy as np"
      ]
    },
    {
      "cell_type": "markdown",
      "source": [
        "1. Задати вектор, що складається з перших п'яти натуральних чисел."
      ],
      "metadata": {
        "id": "4ah1q3ojvwj7"
      }
    },
    {
      "cell_type": "code",
      "source": [
        "vector = np.array([1, 2, 3, 4, 5])\n",
        "vector"
      ],
      "metadata": {
        "colab": {
          "base_uri": "https://localhost:8080/"
        },
        "id": "5J5tn2RpwEH2",
        "outputId": "7529b226-c251-4a27-903c-ac8bfb2d9c58"
      },
      "execution_count": null,
      "outputs": [
        {
          "output_type": "execute_result",
          "data": {
            "text/plain": [
              "array([1, 2, 3, 4, 5])"
            ]
          },
          "metadata": {},
          "execution_count": 3
        }
      ]
    },
    {
      "cell_type": "markdown",
      "source": [
        "2. Транспонувати вектор."
      ],
      "metadata": {
        "id": "jBDPLRnXwTSf"
      }
    },
    {
      "cell_type": "code",
      "source": [
        "v1 = np.matrix([1, 2, 3, 4, 5])\n",
        "\n",
        "print(v1)\n",
        "v2 = v1.T\n",
        "v2"
      ],
      "metadata": {
        "colab": {
          "base_uri": "https://localhost:8080/"
        },
        "id": "3GDVaYVpwMl3",
        "outputId": "99afdd29-c792-48d5-ebb7-452f4d8fd970"
      },
      "execution_count": null,
      "outputs": [
        {
          "output_type": "stream",
          "name": "stdout",
          "text": [
            "[[1 2 3 4 5]]\n"
          ]
        },
        {
          "output_type": "execute_result",
          "data": {
            "text/plain": [
              "matrix([[1],\n",
              "        [2],\n",
              "        [3],\n",
              "        [4],\n",
              "        [5]])"
            ]
          },
          "metadata": {},
          "execution_count": 4
        }
      ]
    },
    {
      "cell_type": "markdown",
      "source": [
        "3. Напишіть функцію, яка перевертає вектор у зворотному порядку.\n",
        "\n"
      ],
      "metadata": {
        "id": "VLJq2B-awlVk"
      }
    },
    {
      "cell_type": "code",
      "source": [
        "v = np.array([1, 2, 3, 4, 5])\n",
        "\n",
        "print(v[::-1])"
      ],
      "metadata": {
        "colab": {
          "base_uri": "https://localhost:8080/"
        },
        "id": "vytwHcPXwhnt",
        "outputId": "9dc02e3a-8390-487c-f53a-5d27115f1a1d"
      },
      "execution_count": null,
      "outputs": [
        {
          "output_type": "stream",
          "name": "stdout",
          "text": [
            "[5 4 3 2 1]\n"
          ]
        }
      ]
    },
    {
      "cell_type": "code",
      "source": [
        "v = np.flip(v)\n",
        "\n",
        "print(v)"
      ],
      "metadata": {
        "colab": {
          "base_uri": "https://localhost:8080/"
        },
        "id": "GCXc5Mssxdbt",
        "outputId": "c417646e-6713-4b9f-d70c-7630db3ccdc1"
      },
      "execution_count": null,
      "outputs": [
        {
          "output_type": "stream",
          "name": "stdout",
          "text": [
            "[5 4 3 2 1]\n"
          ]
        }
      ]
    },
    {
      "cell_type": "markdown",
      "source": [
        "4. Обчислити середнє значення вектора."
      ],
      "metadata": {
        "id": "ztCBoELRwoTt"
      }
    },
    {
      "cell_type": "code",
      "source": [
        "print(np.mean(v))"
      ],
      "metadata": {
        "colab": {
          "base_uri": "https://localhost:8080/"
        },
        "id": "NMaG06WSwqEf",
        "outputId": "b4c0279c-6a07-4364-e24c-1e684fde3659"
      },
      "execution_count": null,
      "outputs": [
        {
          "output_type": "stream",
          "name": "stdout",
          "text": [
            "3.0\n"
          ]
        }
      ]
    },
    {
      "cell_type": "markdown",
      "source": [
        "5. Знайти найбільший і найменший елементи вектора"
      ],
      "metadata": {
        "id": "Knc00aILxxp-"
      }
    },
    {
      "cell_type": "code",
      "source": [
        "print(np.max(v))\n",
        "print(np.min(v))"
      ],
      "metadata": {
        "colab": {
          "base_uri": "https://localhost:8080/"
        },
        "id": "R4WMZRxjxwXv",
        "outputId": "66951fe6-10f9-4cd7-fb51-93c95bb2f8d6"
      },
      "execution_count": null,
      "outputs": [
        {
          "output_type": "stream",
          "name": "stdout",
          "text": [
            "5\n",
            "1\n"
          ]
        }
      ]
    },
    {
      "cell_type": "markdown",
      "source": [
        "6. Обчислити скалярний добуток (dot product) двох векторів"
      ],
      "metadata": {
        "id": "WbRAe227yY80"
      }
    },
    {
      "cell_type": "code",
      "source": [
        "v1 = np.array([1, 2, 3])\n",
        "v2 = np.array([4, 5, 6])\n",
        "\n",
        "print(np.dot(v1, v2))\n",
        "print(v1 * v2)"
      ],
      "metadata": {
        "colab": {
          "base_uri": "https://localhost:8080/"
        },
        "id": "ipikCoJeyJbl",
        "outputId": "034e0191-c800-4925-8700-105918753270"
      },
      "execution_count": null,
      "outputs": [
        {
          "output_type": "stream",
          "name": "stdout",
          "text": [
            "32\n",
            "[ 4 10 18]\n"
          ]
        }
      ]
    },
    {
      "cell_type": "markdown",
      "source": [
        "7. Напишіть функцію, яка нормалізує вектор (зводить до одиничної довжини)."
      ],
      "metadata": {
        "id": "akjtc0r5yy7R"
      }
    },
    {
      "cell_type": "code",
      "source": [
        "v = np.array([1, 2, 3, 4, 5])\n",
        "norm = np.linalg.norm(v)\n",
        "\n",
        "print(norm)\n",
        "\n",
        "v/norm"
      ],
      "metadata": {
        "colab": {
          "base_uri": "https://localhost:8080/"
        },
        "id": "42LZCTb3yvjz",
        "outputId": "a6f4174b-7d0c-4e53-ee93-0ba23a5d1861"
      },
      "execution_count": null,
      "outputs": [
        {
          "output_type": "stream",
          "name": "stdout",
          "text": [
            "7.416198487095663\n"
          ]
        },
        {
          "output_type": "execute_result",
          "data": {
            "text/plain": [
              "array([0.13483997, 0.26967994, 0.40451992, 0.53935989, 0.67419986])"
            ]
          },
          "metadata": {},
          "execution_count": 12
        }
      ]
    },
    {
      "cell_type": "markdown",
      "source": [
        "8. Задайте два вектори. Визначте, чи є вони ортогональними. Підказка: якщо скаларний добуток дорівнює нулю, вектори ортогональні."
      ],
      "metadata": {
        "id": "bGCKuAmSzPe7"
      }
    },
    {
      "cell_type": "code",
      "source": [
        "v1 = np.array([1 ,0, 0])\n",
        "v2 = np.array([0, 1, 0])\n",
        "\n",
        "np.dot(v1, v2)"
      ],
      "metadata": {
        "colab": {
          "base_uri": "https://localhost:8080/"
        },
        "id": "7SdjTetSzK3S",
        "outputId": "aee3d993-e3b2-4af7-b5ad-d7ffd47bb47d"
      },
      "execution_count": null,
      "outputs": [
        {
          "output_type": "execute_result",
          "data": {
            "text/plain": [
              "np.int64(0)"
            ]
          },
          "metadata": {},
          "execution_count": 13
        }
      ]
    },
    {
      "cell_type": "markdown",
      "source": [
        "9. Визначити унукальні елементи вектора"
      ],
      "metadata": {
        "id": "clAMNvL9z2l6"
      }
    },
    {
      "cell_type": "code",
      "source": [
        "v = np.array([1, 2, 3, 2, 4, 5, 3])\n",
        "\n",
        "np.unique(v)"
      ],
      "metadata": {
        "colab": {
          "base_uri": "https://localhost:8080/"
        },
        "id": "G_0pFjO_z9FI",
        "outputId": "dbf8c57b-21ae-48ee-af91-d08c6784aed0"
      },
      "execution_count": null,
      "outputs": [
        {
          "output_type": "execute_result",
          "data": {
            "text/plain": [
              "array([1, 2, 3, 4, 5])"
            ]
          },
          "metadata": {},
          "execution_count": 14
        }
      ]
    },
    {
      "cell_type": "markdown",
      "source": [
        "10. Знайти вектори"
      ],
      "metadata": {
        "id": "nwStXzSh0KNY"
      }
    },
    {
      "cell_type": "code",
      "source": [
        "v1 = np.array([1, 2, 3])\n",
        "v2 = np.array([4 ,5 ,6])\n",
        "\n",
        "print(v1 - v2)\n",
        "print(v2 - v1)\n",
        "print(v1 + v2)\n",
        "print(v2 + v1)\n",
        "print(v1 * v2)\n",
        "print(v2 * v1)\n",
        "print(v1 / v2)\n",
        "print(v2 / v1)"
      ],
      "metadata": {
        "colab": {
          "base_uri": "https://localhost:8080/"
        },
        "id": "7YbPiat50HKp",
        "outputId": "ead3ae8e-2f77-49ba-cf9b-8e9ce7f9affa"
      },
      "execution_count": null,
      "outputs": [
        {
          "output_type": "stream",
          "name": "stdout",
          "text": [
            "[-3 -3 -3]\n",
            "[3 3 3]\n",
            "[5 7 9]\n",
            "[5 7 9]\n",
            "[ 4 10 18]\n",
            "[ 4 10 18]\n",
            "[0.25 0.4  0.5 ]\n",
            "[4.  2.5 2. ]\n"
          ]
        }
      ]
    },
    {
      "cell_type": "markdown",
      "source": [
        "11. Перевірити, чи дорівнює довжина вектора 5"
      ],
      "metadata": {
        "id": "uY5A5EMk0wbB"
      }
    },
    {
      "cell_type": "code",
      "source": [
        "vector = np.array([1, 2, 3, 4, 5])\n",
        "length = np.linalg.norm(vector)\n",
        "\n",
        "np.isclose(length, 5)"
      ],
      "metadata": {
        "colab": {
          "base_uri": "https://localhost:8080/"
        },
        "id": "V7XJgO180sT_",
        "outputId": "8b856eca-ae38-40f2-ec3b-931040101860"
      },
      "execution_count": null,
      "outputs": [
        {
          "output_type": "execute_result",
          "data": {
            "text/plain": [
              "np.False_"
            ]
          },
          "metadata": {},
          "execution_count": 16
        }
      ]
    },
    {
      "cell_type": "markdown",
      "source": [
        "12. Задати матрицю заповнену випадковими числами"
      ],
      "metadata": {
        "id": "eAi0xvwJ1GTv"
      }
    },
    {
      "cell_type": "code",
      "source": [
        "a = np.random.randint(0, 11, (3, 3))\n",
        "a"
      ],
      "metadata": {
        "colab": {
          "base_uri": "https://localhost:8080/"
        },
        "id": "M9rWV06Q1EvP",
        "outputId": "ee5dbe15-a561-4933-d8c7-6ccb12049024"
      },
      "execution_count": null,
      "outputs": [
        {
          "output_type": "execute_result",
          "data": {
            "text/plain": [
              "array([[ 7,  0,  3],\n",
              "       [ 6,  2,  7],\n",
              "       [ 3, 10,  1]])"
            ]
          },
          "metadata": {},
          "execution_count": 17
        }
      ]
    },
    {
      "cell_type": "markdown",
      "source": [
        "13. Обчислити визначник матриці"
      ],
      "metadata": {
        "id": "whWwShBE1WSZ"
      }
    },
    {
      "cell_type": "code",
      "source": [
        "np.linalg.det(a)"
      ],
      "metadata": {
        "colab": {
          "base_uri": "https://localhost:8080/"
        },
        "id": "FEKCMGP01TLz",
        "outputId": "340746c5-3fa7-4208-b3c5-6da5b14e5e89"
      },
      "execution_count": null,
      "outputs": [
        {
          "output_type": "execute_result",
          "data": {
            "text/plain": [
              "np.float64(-314.00000000000017)"
            ]
          },
          "metadata": {},
          "execution_count": 19
        }
      ]
    },
    {
      "cell_type": "markdown",
      "source": [
        "14. Знаходження оберненої матриці"
      ],
      "metadata": {
        "id": "SqtZHJN_1mTx"
      }
    },
    {
      "cell_type": "code",
      "source": [
        "np.linalg.inv(a)"
      ],
      "metadata": {
        "colab": {
          "base_uri": "https://localhost:8080/"
        },
        "id": "ljUxsn1H1e2y",
        "outputId": "34120d42-1858-45e8-f336-24d902aa5f29"
      },
      "execution_count": null,
      "outputs": [
        {
          "output_type": "execute_result",
          "data": {
            "text/plain": [
              "array([[ 0.21656051, -0.0955414 ,  0.01910828],\n",
              "       [-0.0477707 ,  0.00636943,  0.09872611],\n",
              "       [-0.17197452,  0.22292994, -0.04458599]])"
            ]
          },
          "metadata": {},
          "execution_count": 20
        }
      ]
    },
    {
      "cell_type": "markdown",
      "source": [
        "15. Розв'яжіть систему лінійних рівнянь A*x=b, де A - матриця коефіцієнтів, b - вектор вільних членів."
      ],
      "metadata": {
        "id": "Hbhzfch_1s5G"
      }
    },
    {
      "cell_type": "code",
      "source": [
        "a = np.array([[1, 3, -4], [0, 2, -3], [-2, 2, 5]])\n",
        "b = np.array([5, 3, 4])\n",
        "\n",
        "x = np.linalg.solve(a, b)\n",
        "print(x)\n",
        "\n",
        "inv_a = np.linalg.inv(a)\n",
        "x1 = inv_a.dot(b)\n",
        "print(x1)"
      ],
      "metadata": {
        "colab": {
          "base_uri": "https://localhost:8080/"
        },
        "id": "iNEls7mm1rG_",
        "outputId": "941e72a2-21a9-43a1-aa13-da162bd14b83"
      },
      "execution_count": null,
      "outputs": [
        {
          "output_type": "stream",
          "name": "stdout",
          "text": [
            "[0.38888889 1.83333333 0.22222222]\n",
            "[0.38888889 1.83333333 0.22222222]\n"
          ]
        }
      ]
    },
    {
      "cell_type": "markdown",
      "source": [
        "16. Множення двох матриць"
      ],
      "metadata": {
        "id": "bn_BACXQ2uTd"
      }
    },
    {
      "cell_type": "code",
      "source": [
        "a = np.array([[1, 3, -4], [0, 2, -3], [-2, 2, 5]])\n",
        "b = np.array([5, 3, 4])\n",
        "\n",
        "np.dot(a, b)"
      ],
      "metadata": {
        "colab": {
          "base_uri": "https://localhost:8080/"
        },
        "id": "HzxQyToE2nLW",
        "outputId": "7cfd51a2-87c0-4015-c967-5696f5b098a6"
      },
      "execution_count": null,
      "outputs": [
        {
          "output_type": "execute_result",
          "data": {
            "text/plain": [
              "array([-2, -6, 16])"
            ]
          },
          "metadata": {},
          "execution_count": 23
        }
      ]
    },
    {
      "cell_type": "code",
      "source": [
        "a = np.array([[1, 3, -4], [0, 2, -3]])\n",
        "b = np.array([[5, 3, 4], [2, 3, 5], [3, 2, 3]])\n",
        "print(a)\n",
        "print(b)\n",
        "print(np.dot(a, b))\n"
      ],
      "metadata": {
        "colab": {
          "base_uri": "https://localhost:8080/"
        },
        "id": "dIAl0pjN2_VB",
        "outputId": "f318bbfb-60ab-4a55-f670-a6363bc063ff"
      },
      "execution_count": null,
      "outputs": [
        {
          "output_type": "stream",
          "name": "stdout",
          "text": [
            "[[ 1  3 -4]\n",
            " [ 0  2 -3]]\n",
            "[[5 3 4]\n",
            " [2 3 5]\n",
            " [3 2 3]]\n",
            "[[-1  4  7]\n",
            " [-5  0  1]]\n"
          ]
        }
      ]
    },
    {
      "cell_type": "markdown",
      "source": [
        "17. Транспонування матриці"
      ],
      "metadata": {
        "id": "Zwj0iSU03Wve"
      }
    },
    {
      "cell_type": "code",
      "source": [
        "print(a.T)\n",
        "print(b.T)"
      ],
      "metadata": {
        "colab": {
          "base_uri": "https://localhost:8080/"
        },
        "id": "ADaiWC1E3Qpv",
        "outputId": "47b86a6d-9e0e-4886-df67-5346139b0a93"
      },
      "execution_count": null,
      "outputs": [
        {
          "output_type": "stream",
          "name": "stdout",
          "text": [
            "[[ 1  0]\n",
            " [ 3  2]\n",
            " [-4 -3]]\n",
            "[[5 2 3]\n",
            " [3 3 2]\n",
            " [4 5 3]]\n"
          ]
        }
      ]
    },
    {
      "cell_type": "code",
      "source": [
        "print(np.transpose(a))\n",
        "print(np.transpose(b))"
      ],
      "metadata": {
        "colab": {
          "base_uri": "https://localhost:8080/"
        },
        "id": "hIzWiAy53f_X",
        "outputId": "49125cdf-7aa2-4b8e-9112-f567e83bf9aa"
      },
      "execution_count": null,
      "outputs": [
        {
          "output_type": "stream",
          "name": "stdout",
          "text": [
            "[[ 1  0]\n",
            " [ 3  2]\n",
            " [-4 -3]]\n",
            "[[5 2 3]\n",
            " [3 3 2]\n",
            " [4 5 3]]\n"
          ]
        }
      ]
    },
    {
      "cell_type": "markdown",
      "source": [
        "18. Перевірка симетричності матриці"
      ],
      "metadata": {
        "id": "xakKkKli3sRT"
      }
    },
    {
      "cell_type": "code",
      "source": [
        "matrix = np.matrix([[2, 2, 2], [2, 2, 2], [2, 2, 2]])\n",
        "\n",
        "np.allclose(matrix, matrix.T)"
      ],
      "metadata": {
        "colab": {
          "base_uri": "https://localhost:8080/"
        },
        "id": "dui1jV2g3nbN",
        "outputId": "f756bd7f-12a8-4ea1-bb30-8491db20ec8d"
      },
      "execution_count": null,
      "outputs": [
        {
          "output_type": "execute_result",
          "data": {
            "text/plain": [
              "True"
            ]
          },
          "metadata": {},
          "execution_count": 28
        }
      ]
    },
    {
      "cell_type": "markdown",
      "source": [
        "19. Обчислення сліду матриці"
      ],
      "metadata": {
        "id": "X9bp7Wtt4IKD"
      }
    },
    {
      "cell_type": "code",
      "source": [
        "np.trace(matrix)"
      ],
      "metadata": {
        "colab": {
          "base_uri": "https://localhost:8080/"
        },
        "id": "q6NnbfOz4CQz",
        "outputId": "f6bd8601-cdc4-49bf-f743-d050900c0e36"
      },
      "execution_count": null,
      "outputs": [
        {
          "output_type": "execute_result",
          "data": {
            "text/plain": [
              "np.int64(6)"
            ]
          },
          "metadata": {},
          "execution_count": 29
        }
      ]
    },
    {
      "cell_type": "markdown",
      "source": [
        "20. Дії з матрицями"
      ],
      "metadata": {
        "id": "T6ecPT3b4POq"
      }
    },
    {
      "cell_type": "code",
      "source": [
        "a = np.matrix([[1, 2], [3, 4]])\n",
        "b = np.matrix([[5, 6], [7, 8]])\n",
        "\n",
        "print(np.add(a, b))\n",
        "print(np.subtract(a, b))\n",
        "print(np.multiply(a, b))\n",
        "print(np.divide(a, b))"
      ],
      "metadata": {
        "colab": {
          "base_uri": "https://localhost:8080/"
        },
        "id": "Y8x7Rcef4ORr",
        "outputId": "7968d2bb-9897-4085-db8f-ead1e3ff9778"
      },
      "execution_count": null,
      "outputs": [
        {
          "output_type": "stream",
          "name": "stdout",
          "text": [
            "[[ 6  8]\n",
            " [10 12]]\n",
            "[[-4 -4]\n",
            " [-4 -4]]\n",
            "[[ 5 12]\n",
            " [21 32]]\n",
            "[[0.2        0.33333333]\n",
            " [0.42857143 0.5       ]]\n"
          ]
        }
      ]
    },
    {
      "cell_type": "markdown",
      "source": [
        "21. Піднесення матриці до ступеня"
      ],
      "metadata": {
        "id": "6hrVx_Ow4wiD"
      }
    },
    {
      "cell_type": "code",
      "source": [
        "a = np.matrix([[1, 2], [3, 4]])\n",
        "\n",
        "np.linalg.matrix_power(a, 2)"
      ],
      "metadata": {
        "colab": {
          "base_uri": "https://localhost:8080/"
        },
        "id": "QFj6tWat4p7J",
        "outputId": "ccf7c0fa-f233-47f6-837b-5a2d6f8e18af"
      },
      "execution_count": null,
      "outputs": [
        {
          "output_type": "execute_result",
          "data": {
            "text/plain": [
              "matrix([[ 7, 10],\n",
              "        [15, 22]])"
            ]
          },
          "metadata": {},
          "execution_count": 32
        }
      ]
    },
    {
      "cell_type": "markdown",
      "source": [
        "22. Сортування рядків або стовпців матриці"
      ],
      "metadata": {
        "id": "oO4sWyjF4_7P"
      }
    },
    {
      "cell_type": "code",
      "source": [
        "b = np.matrix([[5, 3, 4], [2, 3, 5], [3, 2, 3]])\n",
        "\n",
        "print(b)\n",
        "print(np.sort(b, axis = 0))\n",
        "print(np.sort(b, axis = 1))\n",
        "print(np.sort(b, axis = None))"
      ],
      "metadata": {
        "colab": {
          "base_uri": "https://localhost:8080/"
        },
        "id": "-7AAZF6q49e7",
        "outputId": "f6ef98f5-70ae-4267-a1bc-a17fe53a827c"
      },
      "execution_count": null,
      "outputs": [
        {
          "output_type": "stream",
          "name": "stdout",
          "text": [
            "[[5 3 4]\n",
            " [2 3 5]\n",
            " [3 2 3]]\n",
            "[[2 2 3]\n",
            " [3 3 4]\n",
            " [5 3 5]]\n",
            "[[3 4 5]\n",
            " [2 3 5]\n",
            " [2 3 3]]\n",
            "[[2 2 3 3 3 3 4 5 5]]\n"
          ]
        }
      ]
    },
    {
      "cell_type": "code",
      "source": [
        "a = np.array([[1, 4], [3, 1]])\n",
        "\n",
        "print(a)\n",
        "print(np.sort(a))"
      ],
      "metadata": {
        "colab": {
          "base_uri": "https://localhost:8080/"
        },
        "id": "YFo7Wtou5csE",
        "outputId": "0ecf1919-279d-4da3-e81e-374f580fef83"
      },
      "execution_count": null,
      "outputs": [
        {
          "output_type": "stream",
          "name": "stdout",
          "text": [
            "[[1 4]\n",
            " [3 1]]\n",
            "[[1 4]\n",
            " [1 3]]\n"
          ]
        }
      ]
    },
    {
      "cell_type": "markdown",
      "source": [
        "23. Підрахувати суму елементів кожного рядка матриці. Відповідь запиши, як вектор-стовпчик"
      ],
      "metadata": {
        "id": "odG4W-KS52ir"
      }
    },
    {
      "cell_type": "code",
      "source": [
        "row_sums = np.sum(a, axis = 1).reshape(-1, 1)\n",
        "\n",
        "print(\"Сума елеиентів кожного рядка:\")\n",
        "print(row_sums)"
      ],
      "metadata": {
        "colab": {
          "base_uri": "https://localhost:8080/"
        },
        "id": "H1rKyj8l5p1c",
        "outputId": "2fb88419-e136-42dc-bebf-4905dbdd4119"
      },
      "execution_count": null,
      "outputs": [
        {
          "output_type": "stream",
          "name": "stdout",
          "text": [
            "Сума елеиентів кожного рядка:\n",
            "[[5]\n",
            " [4]]\n"
          ]
        }
      ]
    },
    {
      "cell_type": "markdown",
      "source": [
        "Висновок: під час виконання лабораторної роботи №1(частини 2) з машинного навчання, був створенний в Colab новий блокнот та виконано 23 завдання по матрицям використовуючи елементи лінійної алгебри за допомогою мови програмування Python та бібліотек Numpy. Під час виконання було створено вектори та двовимерні матриці, які було заповнено випадковими чи довільними числами. З векторами виконувалися поелементні операції, як додавання, віднімання, множення та ділення. Було знайдені обернені матриці, а також було транспоновано матриці та вектори, обчислено визначник матриці, множення двох матриць. Обчислено середнє значення вектора, знайдено найбільший і найменший елементи вектора, обчислено скалярний добуток двох векторів. Було задано два вектори і визначено, чи є вони ортогональними, також визначено унукальні елементи вектора. Було написано функції: яка перевертає вектор у зворотному порядку; яка нормалізує вектор. Розв'язано систему лінійних рівнянь A*x=b, де A - матриця коефіцієнтів, b - вектор вільних членів. Було перевірено симетричності матриці, обчислено сліду матриці, піднесено матриці до ступеня 2, а також сортовано рядки та стовпці матриці. Було виконано дії з матрицями, як додавання, віднімання, множення та ділення. А в кунці було підраховано суму елементів кожного рядка матриці, а відповідь записана, як вектор-стовпчик."
      ],
      "metadata": {
        "id": "vu4TE4U36f35"
      }
    }
  ]
}