{
  "nbformat": 4,
  "nbformat_minor": 0,
  "metadata": {
    "colab": {
      "provenance": [],
      "authorship_tag": "ABX9TyNa0+k7qPGHyQrruHd3lt6V",
      "include_colab_link": true
    },
    "kernelspec": {
      "name": "python3",
      "display_name": "Python 3"
    },
    "language_info": {
      "name": "python"
    }
  },
  "cells": [
    {
      "cell_type": "markdown",
      "metadata": {
        "id": "view-in-github",
        "colab_type": "text"
      },
      "source": [
        "<a href=\"https://colab.research.google.com/github/OleksiiMelnichuk/MachineLearning/blob/main/%D0%9C%D0%B5%D0%BB%D1%8C%D0%BD%D0%B8%D1%87%D1%83%D0%BA_%D0%BF%D1%80_1.ipynb\" target=\"_parent\"><img src=\"https://colab.research.google.com/assets/colab-badge.svg\" alt=\"Open In Colab\"/></a>"
      ]
    },
    {
      "cell_type": "code",
      "execution_count": null,
      "metadata": {
        "colab": {
          "base_uri": "https://localhost:8080/",
          "height": 35
        },
        "id": "brtI-mRkjDCc",
        "outputId": "bd5443e6-37b2-4fc0-dc0a-b2d7d85bad1c"
      },
      "outputs": [
        {
          "output_type": "execute_result",
          "data": {
            "text/plain": [
              "'2.0.2'"
            ],
            "application/vnd.google.colaboratory.intrinsic+json": {
              "type": "string"
            }
          },
          "metadata": {},
          "execution_count": 175
        }
      ],
      "source": [
        "import numpy as np\n",
        "np.__version__"
      ]
    },
    {
      "cell_type": "markdown",
      "source": [
        "1. Створіть одновимірний масив (вектор) із арифметичною послідовністю, де кожне наступне число більше попереднього на 5, починаючи з 3, та виведіть його значення."
      ],
      "metadata": {
        "id": "xbMTmQEpjhwj"
      }
    },
    {
      "cell_type": "code",
      "source": [
        "matrix = [3 + 5 * i for i in range(10)]\n",
        "matrix"
      ],
      "metadata": {
        "colab": {
          "base_uri": "https://localhost:8080/"
        },
        "id": "Y1UXa5S3mm1o",
        "outputId": "019f5fe2-4f76-4c5b-c481-b1fdc9eac37a"
      },
      "execution_count": 2,
      "outputs": [
        {
          "output_type": "execute_result",
          "data": {
            "text/plain": [
              "[3, 8, 13, 18, 23, 28, 33, 38, 43, 48]"
            ]
          },
          "metadata": {},
          "execution_count": 2
        }
      ]
    },
    {
      "cell_type": "markdown",
      "source": [
        "2. Створіть двовимірний масив (матрицю) розміром 3x3, заповніть його добутками кожного числа та його попереднього, починаючи з 1, та виведіть його значення."
      ],
      "metadata": {
        "id": "C_ZZ7BOZm6z3"
      }
    },
    {
      "cell_type": "code",
      "source": [
        "matrix2 = np.ones((3, 3), int)\n",
        "num = 1\n",
        "for i in range(3):\n",
        "    for j in range(3):\n",
        "        if num == 1:\n",
        "            matrix2[i, j] = 1\n",
        "        else:\n",
        "            matrix2[i, j] = num * (num - 1)\n",
        "        num += 1\n",
        "matrix2"
      ],
      "metadata": {
        "colab": {
          "base_uri": "https://localhost:8080/"
        },
        "id": "KTvdQ0h-llDz",
        "outputId": "6e6b3c27-1db1-4089-e389-c15021c8cc77"
      },
      "execution_count": null,
      "outputs": [
        {
          "output_type": "execute_result",
          "data": {
            "text/plain": [
              "array([[ 1,  2,  6],\n",
              "       [12, 20, 30],\n",
              "       [42, 56, 72]])"
            ]
          },
          "metadata": {},
          "execution_count": 177
        }
      ]
    },
    {
      "cell_type": "markdown",
      "source": [
        "3. Створіть масив розміром 3x3, заповніть його випадковими натуральними числами від 1 до 2 та знайдіть середнє арифметичне його елементів."
      ],
      "metadata": {
        "id": "LD5-0ANzrOGr"
      }
    },
    {
      "cell_type": "code",
      "source": [
        "matrix3 = np.random.randint(1, 3, size = (3, 3))\n",
        "mean = np.mean(matrix3)\n",
        "print(matrix3)\n",
        "print(\"середнє арифметичне елементів масиву:\")\n",
        "print(mean)"
      ],
      "metadata": {
        "colab": {
          "base_uri": "https://localhost:8080/"
        },
        "id": "OCRRNi31Dswm",
        "outputId": "93cc5dfa-0a45-4afe-e795-9e092d519a60"
      },
      "execution_count": null,
      "outputs": [
        {
          "output_type": "stream",
          "name": "stdout",
          "text": [
            "[[1 2 1]\n",
            " [2 1 1]\n",
            " [2 1 1]]\n",
            "середнє арифметичне елементів масиву:\n",
            "1.3333333333333333\n"
          ]
        }
      ]
    },
    {
      "cell_type": "markdown",
      "source": [
        "4. Створіть масив розміром 4x4, заповніть його випадковими дійсними числами в діапазоні від 0 до 1 та знайдіть кількість елементів, що більше 0.5."
      ],
      "metadata": {
        "id": "hfLpvZvNscp2"
      }
    },
    {
      "cell_type": "code",
      "source": [
        "matrix4 = np.random.rand(4, 4)\n",
        "count = np.sum(matrix4 > 0.5)\n",
        "print(matrix4)\n",
        "print(\"Кількість елементів, що більше 0.5:\")\n",
        "print(count)"
      ],
      "metadata": {
        "colab": {
          "base_uri": "https://localhost:8080/"
        },
        "id": "CGq4z0BAEZ9k",
        "outputId": "611b7e7c-b180-436d-9a35-91c095ad3cf7"
      },
      "execution_count": null,
      "outputs": [
        {
          "output_type": "stream",
          "name": "stdout",
          "text": [
            "[[0.81644034 0.85323101 0.11884288 0.62513077]\n",
            " [0.22923918 0.08150248 0.47141907 0.87288433]\n",
            " [0.69567936 0.4259013  0.94516924 0.36342277]\n",
            " [0.70990319 0.15100968 0.09617896 0.82618874]]\n",
            "Кількість елементів, що більше 0.5.\n",
            "8\n"
          ]
        }
      ]
    },
    {
      "cell_type": "markdown",
      "source": [
        "5. Створіть два одновимірних масиви розміром 7, заповніть їх випадковими цілими числами від -15 до 15 та виконайте на них поелементні операції додавання, віднімання та множення."
      ],
      "metadata": {
        "id": "qaGudxuFtyb0"
      }
    },
    {
      "cell_type": "code",
      "source": [
        "matrix5_1 = np.random.randint(-15, 16, size=7)\n",
        "matrix5_2 = np.random.randint(-15, 16, size=7)\n",
        "print(\"Матриця №1:\")\n",
        "print(matrix5_1)\n",
        "print(\"Матриця №2:\")\n",
        "print(matrix5_2)\n",
        "sum = matrix5_1 + matrix5_2\n",
        "print(\"Додавання матриці №1 та матриці №2:\")\n",
        "print(sum)\n",
        "difference1 = matrix5_1 - matrix5_2\n",
        "difference2 = matrix5_2 - matrix5_1\n",
        "print(\"Віднімання матриці №2 від матриці №1:\")\n",
        "print(difference1)\n",
        "print(\"Віднімання матриці №1 від матриці №2:\")\n",
        "print(difference2)\n",
        "product = matrix5_1 * matrix5_2\n",
        "print(\"Добуток матриці №1 та матриці №2:\")\n",
        "print(product)"
      ],
      "metadata": {
        "colab": {
          "base_uri": "https://localhost:8080/"
        },
        "id": "zXAhLBmzE4Dx",
        "outputId": "3f0400d4-0366-4637-fde9-ebb17b2c1dfe"
      },
      "execution_count": null,
      "outputs": [
        {
          "output_type": "stream",
          "name": "stdout",
          "text": [
            "Матриця №1\n",
            "[ 13  -1   0  11   5 -13 -10]\n",
            "Матриця №2\n",
            "[-15  15   7  -9  -9 -12   3]\n",
            "Додавання матриці №1 та матриці №2\n",
            "[ -2  14   7   2  -4 -25  -7]\n",
            "Віднімання матриці №2 від матриці №1\n",
            "[ 28 -16  -7  20  14  -1 -13]\n",
            "Віднімання матриці №1 від матриці №2\n",
            "[-28  16   7 -20 -14   1  13]\n",
            "Добуток матриці №1 та матриці №2\n",
            "[-195  -15    0  -99  -45  156  -30]\n"
          ]
        }
      ]
    },
    {
      "cell_type": "markdown",
      "source": [
        "6. Створіть дві матриці 4x4, заповніть їх довільними цілими числами від 1 до 10 та знайдіть їх добуток."
      ],
      "metadata": {
        "id": "rCwfY4pHvg2Z"
      }
    },
    {
      "cell_type": "code",
      "source": [
        "matrix6_1 = np.random.randint(1, 11, size = (4, 4))\n",
        "matrix6_2 = np.random.randint(1, 11, size = (4, 4))\n",
        "print(\"Матриця №1:\")\n",
        "print(matrix6_1)\n",
        "print(\"Матриця №1:\")\n",
        "print(matrix6_2)\n",
        "product2 = np.dot(matrix6_1, matrix6_2)\n",
        "print(\"Добуток матриць:\")\n",
        "print(product2)"
      ],
      "metadata": {
        "colab": {
          "base_uri": "https://localhost:8080/"
        },
        "id": "p8CBVWTYvltj",
        "outputId": "0a2a7959-156d-4281-9157-fea702543892"
      },
      "execution_count": null,
      "outputs": [
        {
          "output_type": "stream",
          "name": "stdout",
          "text": [
            "Матриця №1:\n",
            "[[ 3  7 10  3]\n",
            " [10  9  1  5]\n",
            " [ 4  9  2  2]\n",
            " [10  5  6 10]]\n",
            "Матриця №1:\n",
            "[[ 3  9  8  7]\n",
            " [ 2  7  5 10]\n",
            " [ 8 10  2  2]\n",
            " [ 9  3  5  6]]\n",
            "Добуток матриць:\n",
            "[[130 185  94 129]\n",
            " [101 178 152 192]\n",
            " [ 64 125  91 134]\n",
            " [178 215 167 192]]\n"
          ]
        }
      ]
    },
    {
      "cell_type": "markdown",
      "source": [
        "7. Створіть дві матриці розміром 4x2 та 2x5, заповніть їх випадковими цілими числами в діапазоні від 1 до 1 0 та перемножте їх між собою."
      ],
      "metadata": {
        "id": "KEzyFC5QwkE_"
      }
    },
    {
      "cell_type": "code",
      "source": [
        "matrix7_1 = np.random.randint(1, 11, size = (4, 2))\n",
        "matrix7_2 = np.random.randint(1, 11, size = (2, 5))\n",
        "print(\"Матриця №1:\")\n",
        "print(matrix7_1)\n",
        "print(\"Матриця №1:\")\n",
        "print(matrix7_2)\n",
        "product3 = np.dot(matrix7_1, matrix7_2)\n",
        "print(\"Добуток матриць:\")\n",
        "print(product3)"
      ],
      "metadata": {
        "colab": {
          "base_uri": "https://localhost:8080/"
        },
        "id": "gAYXkF3ewU0I",
        "outputId": "68cda60e-79e5-4d34-ff48-f460a06d8d5b"
      },
      "execution_count": null,
      "outputs": [
        {
          "output_type": "stream",
          "name": "stdout",
          "text": [
            "Матриця №1:\n",
            "[[ 1  8]\n",
            " [ 3  5]\n",
            " [ 9  2]\n",
            " [ 2 10]]\n",
            "Матриця №1:\n",
            "[[ 1  9 10  3  7]\n",
            " [10  9  1  2  7]]\n",
            "Добуток матриць:\n",
            "[[ 81  81  18  19  63]\n",
            " [ 53  72  35  19  56]\n",
            " [ 29  99  92  31  77]\n",
            " [102 108  30  26  84]]\n"
          ]
        }
      ]
    },
    {
      "cell_type": "markdown",
      "source": [
        "8. Створіть матрицю розміром 2x2, заповніть її випадковими цілими числами в діапазоні від 1 до 12 та знайдіть її обернену матрицю."
      ],
      "metadata": {
        "id": "8-myJ5xCxIWc"
      }
    },
    {
      "cell_type": "code",
      "source": [
        "matrix8 = np.random.randint(1, 13, size = (2, 2))\n",
        "print(matrix8)\n",
        "inverse_matrix8 = np.linalg.inv(matrix8)\n",
        "print(\"Обернена матриця:\")\n",
        "print(inverse_matrix8)"
      ],
      "metadata": {
        "colab": {
          "base_uri": "https://localhost:8080/"
        },
        "id": "Zn0qNSTOxPCf",
        "outputId": "b7b8968c-e327-4cd9-d0a3-6d96e2c1eba0"
      },
      "execution_count": null,
      "outputs": [
        {
          "output_type": "stream",
          "name": "stdout",
          "text": [
            "[[5 6]\n",
            " [9 3]]\n",
            "Обернена матриця:\n",
            "[[-0.07692308  0.15384615]\n",
            " [ 0.23076923 -0.12820513]]\n"
          ]
        }
      ]
    },
    {
      "cell_type": "markdown",
      "source": [
        "9. Створіть матрицю розміром 3x3, заповніть її випадковими дійсними числами в діапазоні від 0 до 1 та транспонуйте її."
      ],
      "metadata": {
        "id": "2RL3H3FLx7rL"
      }
    },
    {
      "cell_type": "code",
      "source": [
        "matrix9 = np.random.rand(3, 3)\n",
        "print(matrix9)\n",
        "matrix9T = matrix9.T\n",
        "print(\"Транспонована матриця:\")\n",
        "print(matrix9T)"
      ],
      "metadata": {
        "colab": {
          "base_uri": "https://localhost:8080/"
        },
        "id": "YTKiQcQ7xr5e",
        "outputId": "e6fed6b3-db6b-4bb9-d82d-e05167af664f"
      },
      "execution_count": null,
      "outputs": [
        {
          "output_type": "stream",
          "name": "stdout",
          "text": [
            "[[0.97886353 0.81910809 0.90697433]\n",
            " [0.12868904 0.30968022 0.33791723]\n",
            " [0.75272173 0.21512121 0.49410543]]\n",
            "Транспонована матриця:\n",
            "[[0.97886353 0.12868904 0.75272173]\n",
            " [0.81910809 0.30968022 0.21512121]\n",
            " [0.90697433 0.33791723 0.49410543]]\n"
          ]
        }
      ]
    },
    {
      "cell_type": "markdown",
      "source": [
        "10. Створіть матрицю розміром 3x4 та вектор розміром 4x1, заповніть матрицю\n",
        "випадковими дійсними числами від 0 до 1, а вектор - випадковими дійсними числами від 0 до 1 і знайдіть добуток матриці на вектор."
      ],
      "metadata": {
        "id": "wB42_5hQyrpp"
      }
    },
    {
      "cell_type": "code",
      "source": [
        "matrix10 = np.random.rand(3, 4)\n",
        "vector = np.random.rand(4, 1)\n",
        "print(\"Матриця:\")\n",
        "print(matrix10)\n",
        "print(\"Вектор:\")\n",
        "print(vector)\n",
        "product4 = np.dot(matrix10, vector)\n",
        "print(\"Добуток матриці на вектор:\")\n",
        "print(product4)"
      ],
      "metadata": {
        "colab": {
          "base_uri": "https://localhost:8080/"
        },
        "id": "tZn9o3jSynat",
        "outputId": "23a2809b-ecf2-4815-85b1-e792b1e48897"
      },
      "execution_count": null,
      "outputs": [
        {
          "output_type": "stream",
          "name": "stdout",
          "text": [
            "Матриця:\n",
            "[[0.81622204 0.87909839 0.12523998 0.25703593]\n",
            " [0.53848754 0.42972042 0.5773542  0.45819811]\n",
            " [0.62026347 0.71346084 0.18084166 0.87272364]]\n",
            "Вектор:\n",
            "[[0.6042314 ]\n",
            " [0.05379362]\n",
            " [0.33772932]\n",
            " [0.86797576]]\n",
            "Добуток матриці на вектор:\n",
            "[[0.80587504]\n",
            " [0.94118159]\n",
            " [1.2317408 ]]\n"
          ]
        }
      ]
    },
    {
      "cell_type": "markdown",
      "source": [
        "11. Створіть матрицю розміром 2x3 та вектор розміром 3, заповніть матрицю випадковими дійсними числами від 0 до 1, а вектор - випадковими цілими числами в діапазоні від 1 до 10, і знайдіть добуток матриці на вектор."
      ],
      "metadata": {
        "id": "u8nHNOCmzlG6"
      }
    },
    {
      "cell_type": "code",
      "source": [
        "matrix11 = np.random.rand(2, 3)\n",
        "vector2 = np.random.randint(1, 11, size = 3)\n",
        "print(\"Матриця:\")\n",
        "print(matrix11)\n",
        "print(\"Вектор:\")\n",
        "print(vector2)\n",
        "product5 = np.dot(matrix11, vector2)\n",
        "print(\"Добуток матриці на вектор:\")\n",
        "print(product5)"
      ],
      "metadata": {
        "colab": {
          "base_uri": "https://localhost:8080/"
        },
        "id": "qyJzyksXzds6",
        "outputId": "b62656da-bd41-4018-a0fe-13aef83e39a6"
      },
      "execution_count": null,
      "outputs": [
        {
          "output_type": "stream",
          "name": "stdout",
          "text": [
            "Матриця:\n",
            "[[0.61404845 0.79688445 0.12636309]\n",
            " [0.18978586 0.04002887 0.36170588]]\n",
            "Вектор:\n",
            "[ 5  8 10]\n",
            "Добуток матриці на вектор:\n",
            "[10.70894874  4.88621903]\n"
          ]
        }
      ]
    },
    {
      "cell_type": "markdown",
      "source": [
        "12. Створіть дві матриці розміром 4x4, заповніть їх випадковими цілими числами в діапазоні від 1 до 10 та знайдіть різницю всіх елементів обох матриць."
      ],
      "metadata": {
        "id": "hdLChVBO0ok3"
      }
    },
    {
      "cell_type": "code",
      "source": [
        "matrix12_1 = np.random.randint(1, 11, size = (4, 4))\n",
        "matrix12_2 = np.random.randint(1, 11, size = (4, 4))\n",
        "print(\"Матриця №1:\")\n",
        "print(matrix12_1)\n",
        "print(\"Матриця №2:\")\n",
        "print(matrix12_2)\n",
        "difference2 = matrix12_1 - matrix12_2\n",
        "print(\"Різниця всіх елементів обох матриць:\")\n",
        "print(difference2)"
      ],
      "metadata": {
        "colab": {
          "base_uri": "https://localhost:8080/"
        },
        "id": "qEwNu56M0eSt",
        "outputId": "3754cd50-511c-4c09-d60c-e8401f33b4c8"
      },
      "execution_count": null,
      "outputs": [
        {
          "output_type": "stream",
          "name": "stdout",
          "text": [
            "Матриця №1:\n",
            "[[ 4  6  1  5]\n",
            " [ 8  9  9  4]\n",
            " [10  8  4  8]\n",
            " [ 7  4  9  6]]\n",
            "Матриця №2:\n",
            "[[ 4 10  2  3]\n",
            " [ 8  5  2  9]\n",
            " [ 1  9  8  9]\n",
            " [ 4  5 10  1]]\n",
            "Різниця всіх елементів обох матриць:\n",
            "[[ 0 -4 -1  2]\n",
            " [ 0  4  7 -5]\n",
            " [ 9 -1 -4 -1]\n",
            " [ 3 -1 -1  5]]\n"
          ]
        }
      ]
    },
    {
      "cell_type": "markdown",
      "source": [
        "13. Створіть дві матриці розміром 3x3, заповніть їх випадковими дійсними числами в діапазоні від -1 до 1 та знайдіть суму їх елементів."
      ],
      "metadata": {
        "id": "NFV70kUC1XpG"
      }
    },
    {
      "cell_type": "code",
      "source": [
        "matrix13_1 = np.random.uniform(-1, 1, size=(3, 3))\n",
        "matrix13_2 = np.random.uniform(-1, 1, size=(3, 3))\n",
        "print(\"Матриця №1:\")\n",
        "print(matrix13_1)\n",
        "print(\"Матриця №2:\")\n",
        "print(matrix13_2)\n",
        "sum2 = matrix13_1 + matrix13_2\n",
        "print(\"Сума елементів матриць:\")\n",
        "print(sum2)"
      ],
      "metadata": {
        "colab": {
          "base_uri": "https://localhost:8080/"
        },
        "id": "basggcwk1V1S",
        "outputId": "f0cb4d10-1fb9-4031-cc73-5b4bb931bbda"
      },
      "execution_count": null,
      "outputs": [
        {
          "output_type": "stream",
          "name": "stdout",
          "text": [
            "Матриця №1:\n",
            "[[-0.85233192 -0.26896095  0.94046437]\n",
            " [ 0.97727848  0.65498181  0.46154267]\n",
            " [ 0.06013565  0.47491653 -0.94794788]]\n",
            "Матриця №2:\n",
            "[[-0.8751966  -0.50696949 -0.07359812]\n",
            " [ 0.77339248 -0.24561912 -0.30954661]\n",
            " [ 0.88139322 -0.47670464 -0.08221605]]\n",
            "Сума елементів матриць:\n",
            "[[-1.72752852 -0.77593043  0.86686625]\n",
            " [ 1.75067096  0.40936269  0.15199606]\n",
            " [ 0.94152887 -0.00178811 -1.03016393]]\n"
          ]
        }
      ]
    },
    {
      "cell_type": "markdown",
      "source": [
        "14. Створіть матрицю розміром 3x3, заповніть її випадковими дійсними числами в діапазоні від -3 до 3 та знайдіть кількість парних елементів матриці."
      ],
      "metadata": {
        "id": "PN49oZOu3BBy"
      }
    },
    {
      "cell_type": "code",
      "source": [
        "matrix14 = np.random.uniform(-3, 3, size=(3, 3))\n",
        "print(\"Матриця:\")\n",
        "print(matrix14)\n",
        "int_matrix14 = matrix14.astype(int)\n",
        "print(\"Матриця з цілими числами замість дійсних:\")\n",
        "print(int_matrix14)\n",
        "even_count = np.sum(int_matrix14 % 2 == 0)\n",
        "print(\"Кількість парних елементів матриці:\")\n",
        "print(even_count)"
      ],
      "metadata": {
        "colab": {
          "base_uri": "https://localhost:8080/"
        },
        "id": "Fixa1GwT2zq8",
        "outputId": "59ce6d70-74a8-4ef8-b0f3-5534d55238b4"
      },
      "execution_count": null,
      "outputs": [
        {
          "output_type": "stream",
          "name": "stdout",
          "text": [
            "Матриця:\n",
            "[[-2.18182635  0.72861803  1.11414001]\n",
            " [ 2.41525757  2.36479822  0.01424613]\n",
            " [-1.52936457 -2.54872163  2.94662326]]\n",
            "Матриця з цілими числами замість дійсних:\n",
            "[[-2  0  1]\n",
            " [ 2  2  0]\n",
            " [-1 -2  2]]\n",
            "кількість парних елементів матриці:\n",
            "7\n"
          ]
        }
      ]
    },
    {
      "cell_type": "markdown",
      "source": [
        "15. Створіть матрицю розміром 5x5, заповніть її випадковими дійсними числами в діапазоні від -0.5 до 0.5 та знайдіть вектор-стовпчик, що містить середнє геометричне значення елементів кожного рядка матриці."
      ],
      "metadata": {
        "id": "h4_n5FuI4DG3"
      }
    },
    {
      "cell_type": "code",
      "source": [
        "from scipy.stats import gmean\n",
        "matrix15 = np.random.uniform(-0.5, 0.5, size=(5, 5))\n",
        "print(\"Матриця:\")\n",
        "print(matrix15)\n",
        "positive = matrix15 + 0.5\n",
        "print(\"Матриця з додаванням 0.5:\")\n",
        "print(positive)\n",
        "g_mean = gmean(positive, axis = 1).reshape(-1, 1)\n",
        "print(\"Середнє геометричне значення елементів кожного рядка матриці:\")\n",
        "print(g_mean)"
      ],
      "metadata": {
        "colab": {
          "base_uri": "https://localhost:8080/"
        },
        "id": "hkZlLPkr8wH-",
        "outputId": "bcec237b-037f-428a-d82a-51f908e341ab"
      },
      "execution_count": null,
      "outputs": [
        {
          "output_type": "stream",
          "name": "stdout",
          "text": [
            "Матриця:\n",
            "[[ 0.46294672 -0.16168074  0.40418451  0.20602905 -0.37844355]\n",
            " [ 0.26830925 -0.35679171 -0.21519946 -0.08109    -0.39337919]\n",
            " [ 0.20091339 -0.30350747  0.20705161  0.23409566  0.35270258]\n",
            " [-0.36334273  0.41929209  0.00668885  0.12935078  0.22991968]\n",
            " [-0.24674252  0.17135516  0.14133176  0.16409163 -0.27472532]]\n",
            "Матриця з додаванням 0.5:\n",
            "[[0.96294672 0.33831926 0.90418451 0.70602905 0.12155645]\n",
            " [0.76830925 0.14320829 0.28480054 0.41891    0.10662081]\n",
            " [0.70091339 0.19649253 0.70705161 0.73409566 0.85270258]\n",
            " [0.13665727 0.91929209 0.50668885 0.62935078 0.72991968]\n",
            " [0.25325748 0.67135516 0.64133176 0.66409163 0.22527468]]\n",
            "Середнє геометричне значення елементів кожного рядка матриці:\n",
            "[[0.47924471]\n",
            " [0.26865909]\n",
            " [0.57148173]\n",
            " [0.49339994]\n",
            " [0.4390435 ]]\n"
          ]
        }
      ]
    },
    {
      "cell_type": "markdown",
      "source": [
        "Висновок: під час виконання лабораторної роботи №1 з машинного навчання, був створенний в Colab новий блокнот та виконано 15 завданнь по матрицям використовуючи елементи лінійної алгебри за допомогою мови програмування Python та бібліотек Numpy та функції gmean з підмодуля бібліотеки SciPy, а саме scipy.stats, яка обчислює геометричне середнє масиву чисел. Під час виконання було створено вектори та двовимерні матриці, які було заповнено випадковими чи довільними, а також цілими або дійсними числами. З матрицями виконувалися поелементні операції, як додавання, віднімання та множення.  Я знаходив обернену матрицю, також транспонував матрицю."
      ],
      "metadata": {
        "id": "7kh50wH2ANdY"
      }
    }
  ]
}